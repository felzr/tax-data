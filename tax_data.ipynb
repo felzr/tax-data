{
  "nbformat": 4,
  "nbformat_minor": 0,
  "metadata": {
    "colab": {
      "provenance": [],
      "authorship_tag": "ABX9TyPimrmk0Bq4Rme8mWJ4zXE8",
      "include_colab_link": true
    },
    "kernelspec": {
      "name": "python3",
      "display_name": "Python 3"
    },
    "language_info": {
      "name": "python"
    }
  },
  "cells": [
    {
      "cell_type": "markdown",
      "metadata": {
        "id": "view-in-github",
        "colab_type": "text"
      },
      "source": [
        "<a href=\"https://colab.research.google.com/github/felzr/tax-data/blob/master/tax_data.ipynb\" target=\"_parent\"><img src=\"https://colab.research.google.com/assets/colab-badge.svg\" alt=\"Open In Colab\"/></a>"
      ]
    },
    {
      "cell_type": "code",
      "execution_count": null,
      "metadata": {
        "id": "1-jQBVur7NPf"
      },
      "outputs": [],
      "source": [
        "#importar a biblioteca\n",
        "import pandas as pd"
      ]
    },
    {
      "cell_type": "code",
      "source": [
        "file_path = \"ISS_LC116 (1) 1.xlsx\""
      ],
      "metadata": {
        "id": "T051ki0e4rF4"
      },
      "execution_count": null,
      "outputs": []
    },
    {
      "cell_type": "code",
      "source": [
        "# Loop para carregar cada aba como um DataFrame separado\n",
        "aliquotas = pd.read_excel(file_path,sheet_name='CNAELC116XISS_SP',dtype=str)"
      ],
      "metadata": {
        "id": "Kxsvz4cRA9Mu"
      },
      "execution_count": null,
      "outputs": []
    },
    {
      "cell_type": "code",
      "source": [
        "aliquotas = aliquotas[aliquotas['Cidade'] != 'Brasília']\n",
        "aliquotas['Cod'] = aliquotas['Cod'].apply(lambda x: x.lstrip('0'))\n",
        "aliquotas['Cod'] = aliquotas['Cod'].str.lstrip()\n",
        "print(aliquotas.head())"
      ],
      "metadata": {
        "colab": {
          "base_uri": "https://localhost:8080/"
        },
        "id": "KFDCT-E26stN",
        "outputId": "39edd0d7-c185-4db6-e8a3-f60c75896faa"
      },
      "execution_count": null,
      "outputs": [
        {
          "output_type": "stream",
          "name": "stdout",
          "text": [
            "   Código da Aliquota  Aliquota LC116 UniProfissional  Descrição   \\\n",
            "0                1.01       5.0     Y               Y         NaN   \n",
            "1                1.02       5.0     Y             NaN         NaN   \n",
            "2                1.03       5.0     Y             NaN         NaN   \n",
            "3                1.04       5.0     Y             NaN         NaN   \n",
            "4                1.05       5.0     Y             NaN         NaN   \n",
            "\n",
            "           Data Inicio             Data Fim     Cidade   Cod  \n",
            "0  2024-01-01 00:00:00  9999-12-31 00:00:00  São Paulo  1.01  \n",
            "1  2024-01-01 00:00:00  9999-12-31 00:00:00  São Paulo  1.02  \n",
            "2  2024-01-01 00:00:00  9999-12-31 00:00:00  São Paulo  1.03  \n",
            "3  2024-01-01 00:00:00  9999-12-31 00:00:00  São Paulo  1.04  \n",
            "4  2024-01-01 00:00:00  9999-12-31 00:00:00  São Paulo  1.05  \n"
          ]
        }
      ]
    },
    {
      "cell_type": "code",
      "source": [
        "# Exibir todos os valores da coluna 'Código da Aliquota'\n",
        "valor_desejado = '17.20'  # Substitua '12345' pelo valor que você está procurando\n",
        "\n",
        "# Filtrar o DataFrame para encontrar a linha correspondente\n",
        "linha_encontrada = aliquotas[aliquotas['Cod'] == valor_desejado]\n",
        "print(linha_encontrada)"
      ],
      "metadata": {
        "colab": {
          "base_uri": "https://localhost:8080/"
        },
        "id": "Iy4nirV-Jd9M",
        "outputId": "fa450bb6-a225-4cf9-e227-5dbc9997ee2a"
      },
      "execution_count": null,
      "outputs": [
        {
          "output_type": "stream",
          "name": "stdout",
          "text": [
            "     Código da Aliquota  Aliquota LC116 UniProfissional  Descrição   \\\n",
            "97                 17.2       5.0     Y             NaN         NaN   \n",
            "361                17.2       5.0     Y             NaN         NaN   \n",
            "557                17.2       5.0     Y             NaN         NaN   \n",
            "752                17.2       5.0     Y             NaN         NaN   \n",
            "\n",
            "             Data Inicio             Data Fim          Cidade    Cod  \n",
            "97   2024-01-01 00:00:00  9999-12-31 00:00:00       São Paulo  17.20  \n",
            "361  2024-01-01 00:00:00  9999-12-31 00:00:00  Rio de Janeiro  17.20  \n",
            "557  2014-04-01 00:00:00  9999-12-31 00:00:00  Belo Horizonte  17.20  \n",
            "752           01/04/2024           31/12/9999        Brasília  17.20  \n"
          ]
        }
      ]
    },
    {
      "cell_type": "code",
      "source": [
        "count_registros = aliquotas['Cod'].count()\n",
        "print(count_registros)\n",
        "print(aliquotas['Cod'].tolist())"
      ],
      "metadata": {
        "colab": {
          "base_uri": "https://localhost:8080/"
        },
        "id": "Ox5NoyK5Sdx5",
        "outputId": "fcba6ca4-9d5d-4e1e-f4d7-463c3cda9ab2"
      },
      "execution_count": null,
      "outputs": [
        {
          "output_type": "stream",
          "name": "stdout",
          "text": [
            "816\n",
            "[1.01, 1.02, 1.03, 1.04, 1.05, 1.06, 1.07, 1.08, 1.09, 10.01, 10.02, 10.03, 10.04, 10.05, 10.06, 10.07, 10.08, 10.09, 10.1, 11.01, 11.02, 11.03, 11.04, 11.05, 12.01, 12.02, 12.03, 12.04, 12.05, 12.06, 12.07, 12.08, 12.09, 12.1, 12.11, 12.12, 12.13, 12.14, 12.15, 12.16, 12.17, 13.02, 13.03, 13.04, 13.05, 14.01, 14.02, 14.03, 14.04, 14.05, 14.06, 14.07, 14.08, 14.09, 14.1, 14.11, 14.12, 14.13, 14.14, 15.01, 15.02, 15.03, 15.04, 15.05, 15.06, 15.07, 15.08, 15.09, 15.1, 15.11, 15.12, 15.13, 15.14, 15.15, 15.16, 15.17, 15.18, 16.01, 16.02, 17.01, 17.02, 17.03, 17.04, 17.05, 17.06, 17.08, 17.09, 17.1, 17.11, 17.12, 17.13, 17.14, 17.15, 17.16, 17.17, 17.18, 17.19, 17.2, 17.21, 17.22, 17.23, 17.24, 17.25, 18.01, 19.01, 2.01, 20.01, 20.02, 20.03, 21.01, 22.01, 23.01, 24.01, 25.01, 25.02, 25.03, 25.04, 25.05, 26.01, 27.01, 28.01, 29.01, 3.02, 3.03, 3.04, 3.05, 30.01, 31.01, 32.01, 33.01, 34.01, 35.01, 36.01, 37.01, 38.01, 39.01, 4.01, 4.02, 4.03, 4.04, 4.05, 4.06, 4.07, 4.08, 4.09, 4.1, 4.11, 4.12, 4.13, 4.14, 4.15, 4.16, 4.17, 4.18, 4.19, 4.2, 4.21, 4.22, 4.23, 40.01, 5.01, 5.02, 5.03, 5.04, 5.05, 5.06, 5.07, 5.08, 5.09, 6.01, 6.02, 6.03, 6.04, 6.05, 6.06, 7.01, 7.02, 7.03, 7.04, 7.05, 7.06, 7.07, 7.08, 7.09, 7.1, 7.11, 7.12, 7.13, 7.16, 7.17, 7.18, 7.19, 7.2, 7.21, 7.22, 8.01, 8.02, 9.01, 9.02, 9.03, 1.01, 1.02, 1.03, 1.04, 1.05, 1.06, 1.07, 1.08, 2.01, 3.02, 3.03, 3.04, 3.05, 4.01, 4.02, 4.03, 4.04, 4.05, 4.06, 4.07, 4.08, 4.09, 4.1, 4.11, 4.12, 4.13, 4.14, 4.15, 4.16, 4.17, 4.18, 4.19, 4.2, 4.21, 4.22, 4.23, 5.01, 5.02, 5.03, 5.04, 5.05, 5.06, 5.07, 5.08, 5.09, 6.01, 6.02, 6.03, 6.04, 6.05, 7.01, 7.02, 7.03, 7.04, 7.05, 7.06, 7.07, 7.08, 7.09, 7.1, 7.11, 7.12, 7.13, 7.14, 7.15, 7.16, 7.17, 7.18, 7.19, 7.2, 8.01, 8.02, 9.01, 9.02, 9.03, 10.01, 10.02, 10.03, 10.04, 10.05, 10.06, 10.07, 10.08, 10.09, 10.1, 11.01, 11.02, 11.03, 11.04, 12.01, 12.02, 12.03, 12.04, 12.05, 12.06, 12.07, 12.08, 12.09, 12.1, 12.11, 12.12, 12.13, 12.14, 12.15, 12.16, 12.17, 13.01, 13.02, 13.03, 13.04, 14.01, 14.02, 14.03, 14.04, 14.05, 14.06, 14.07, 14.08, 14.09, 14.1, 14.11, 14.12, 14.13, 15.01, 15.02, 15.03, 15.04, 15.05, 15.06, 15.07, 15.08, 15.09, 15.1, 15.11, 15.12, 15.13, 15.14, 15.15, 15.16, 15.17, 15.18, 16.01, 17.01, 17.02, 17.03, 17.04, 17.05, 17.06, 17.07, 17.08, 17.09, 17.1, 17.11, 17.12, 17.13, 17.14, 17.15, 17.16, 17.17, 17.18, 17.19, 17.2, 17.21, 17.22, 17.23, 18.01, 19.01, 20.01, 20.02, 20.03, 21.01, 22.01, 23.01, 24.01, 25.01, 25.02, 25.03, 25.04, 26.01, 27.01, 28.01, 29.01, 30.01, 31.01, 32.01, 33.01, 34.01, 35.01, 36.01, 37.01, 38.01, 39.01, 40.01, 1.01, 1.02, 1.03, 1.04, 1.05, 1.06, 1.07, 1.08, 1.09, 2.01, 3.02, 3.03, 3.04, 3.05, 4.01, 4.02, 4.03, 4.04, 4.05, 4.06, 4.07, 4.08, 4.09, 4.1, 4.11, 4.12, 4.13, 4.14, 4.15, 4.16, 4.17, 4.18, 4.19, 4.2, 4.21, 4.22, 4.23, 5.01, 5.02, 5.03, 5.04, 5.05, 5.06, 5.07, 5.08, 5.09, 6.01, 6.02, 6.03, 6.04, 6.05, 6.06, 7.01, 7.02, 7.03, 7.04, 7.05, 7.06, 7.07, 7.08, 7.09, 7.1, 7.11, 7.12, 7.13, 7.16, 7.17, 7.18, 7.19, 7.2, 7.21, 7.22, 8.01, 8.02, 9.01, 9.02, 9.03, 10.01, 10.02, 10.03, 10.04, 10.05, 10.06, 10.07, 10.08, 10.09, 10.1, 11.01, 11.02, 11.03, 11.04, 12.01, 12.02, 12.03, 12.04, 12.05, 12.06, 12.07, 12.08, 12.09, 12.1, 12.11, 12.12, 12.13, 12.14, 12.15, 12.16, 12.17, 13.02, 13.03, 13.04, 13.05, 14.01, 14.02, 14.03, 14.04, 14.05, 14.06, 14.07, 14.08, 14.09, 14.1, 14.11, 14.12, 14.13, 14.14, 15.01, 15.02, 15.03, 15.04, 15.05, 15.06, 15.07, 15.08, 15.09, 15.1, 15.11, 15.12, 15.13, 15.14, 15.15, 15.16, 15.17, 15.18, 16.01, 16.02, 17.01, 17.02, 17.03, 17.04, 17.05, 17.06, 17.08, 17.09, 17.1, 17.11, 17.12, 17.13, 17.14, 17.15, 17.16, 17.17, 17.18, 17.19, 17.2, 17.21, 17.22, 17.23, 17.24, 17.25, 18.01, 19.01, 20.01, 20.02, 20.03, 21.01, 22.01, 23.01, 24.01, 25.01, 25.02, 25.03, 25.04, 25.05, 26.01, 27.01, 28.01, 29.01, 30.01, 31.01, 32.01, 33.01, 34.01, 35.01, 36.01, 37.01, 38.01, 39.01, 40.01, 1.01, 1.02, 1.03, 1.04, 1.05, 1.06, 1.07, 1.08, 2.01, 3.02, 3.03, 3.04, 3.05, 4.01, 4.02, 4.03, 4.04, 4.05, 4.06, 4.07, 4.08, 4.09, 4.1, 4.11, 4.12, 4.13, 4.14, 4.15, 4.16, 4.17, 4.18, 4.19, 4.2, 4.21, 4.22, 4.23, 5.01, 5.02, 5.03, 5.04, 5.05, 5.06, 5.07, 5.08, 5.09, 6.01, 6.02, 6.03, 6.04, 6.05, 7.01, 7.02, 7.03, 7.04, 7.05, 7.06, 7.07, 7.08, 7.09, 7.1, 7.11, 7.12, 7.13, 7.16, 7.17, 7.18, 7.19, 7.2, 7.21, 7.22, 8.01, 8.02, 9.01, 9.02, 9.03, 10.01, 10.02, 10.03, 10.04, 10.05, 10.06, 10.07, 10.08, 10.09, 10.1, 11.01, 11.02, 11.03, 11.04, 12.01, 12.02, 12.03, 12.04, 12.05, 12.06, 12.07, 12.08, 12.09, 12.1, 12.11, 12.12, 12.13, 12.14, 12.15, 12.16, 12.17, 13.02, 13.03, 13.04, 13.05, 14.01, 14.02, 14.03, 14.04, 14.05, 14.06, 14.07, 14.08, 14.09, 14.1, 14.11, 14.12, 14.13, 15.01, 15.02, 15.03, 15.04, 15.05, 15.06, 15.07, 15.08, 15.09, 15.1, 15.11, 15.12, 15.13, 15.14, 15.15, 15.16, 15.17, 15.18, 16.01, 17.01, 17.02, 17.03, 17.04, 17.05, 17.06, 17.08, 17.09, 17.1, 17.11, 17.12, 17.13, 17.14, 17.15, 17.16, 17.17, 17.18, 17.19, 17.2, 17.21, 17.22, 17.23, 17.24, 18.01, 19.01, 20.01, 20.02, 20.03, 21.01, 22.01, 23.01, 24.01, 25.01, 25.02, 25.03, 25.04, 26.01, 27.01, 28.01, 29.01, 30.01, 31.01, 32.01, 33.01, 34.01, 35.01, 36.01, 37.01, 38.01, 39.01, 40.01, 1.09, 1.09, 6.06, 6.06, 7.14, 7.14, 7.14, 7.15, 7.15, 7.15, 7.21, 7.22, 11.05, 11.05, 11.05, 13.01, 13.01, 13.01, 13.05, 14.14, 14.14, 16.02, 16.02, 17.07, 17.07, 17.07, 17.24, 17.25, 17.25, 25.05, 25.05]\n"
          ]
        }
      ]
    },
    {
      "cell_type": "markdown",
      "source": [],
      "metadata": {
        "id": "aF2EYn5ILBNM"
      }
    },
    {
      "cell_type": "code",
      "source": [
        "with open('inserts_iss.sql', 'w') as file:\n",
        "    # Iterar sobre as linhas do dataset\n",
        "    for index, row in aliquotas.iterrows():\n",
        "        # Construir o comando INSERT\n",
        "        insert_sql = f\"\"\"\n",
        "        INSERT INTO ecg_taxass_iss (\n",
        "            ecg_taxass_iss_id, ad_client_id, ad_org_id, created, createdby, ecg_taxass_iss_uu, isactive,\n",
        "            updated, updatedby, description, ecg_taxass_cod, ecg_taxass_aliquota, ecg_taxass_valorfixo,\n",
        "            c_city_id, ecg_taxass_datainicio, ecg_taxass_datafim, ecg_taxass_islc116,\n",
        "            ecg_taxass_itemlei, isdefault, ecg_taxass_isissfixo\n",
        "        ) VALUES (\n",
        "            (SELECT nextval('ecg_taxass_iss_sq')), 0, 0, NOW(), 100, uuid_generate_v4(), 'Y',\n",
        "            NOW(), 100, (select substring(name,0,255) from ecg_taxass_lc116 etl where value ='{row['Cod']}'), '{row['Cod']}', {row['Aliquota']}, null,\n",
        "            (select c_city_id from c_city cc where  name = '{row['Cidade']}'),\n",
        "            TO_DATE('01/04/2024', 'dd/MM/yyyy'), TO_DATE('31/12/9999', 'dd/MM/yyyy'), 'Y',\n",
        "            null, 'N', 'N'\n",
        "        );\n",
        "        \"\"\"\n",
        "        # Escrever o comando no arquivo\n",
        "        file.write(insert_sql)\n",
        "\n",
        "print(\"Arquivo SQL gerado com sucesso!\")"
      ],
      "metadata": {
        "colab": {
          "base_uri": "https://localhost:8080/"
        },
        "id": "H_eIcbHmqwJl",
        "outputId": "b605a8ff-b08f-4d08-a8ab-eb303967954d"
      },
      "execution_count": null,
      "outputs": [
        {
          "output_type": "stream",
          "name": "stdout",
          "text": [
            "Arquivo SQL gerado com sucesso!\n"
          ]
        }
      ]
    },
    {
      "cell_type": "code",
      "source": [
        "sp = pd.read_excel(file_path,sheet_name='CNAELC116XISS_SP',dtype=str)\n",
        "bh = pd.read_excel(file_path,sheet_name='CNAELC116XISS_BH',dtype=str)\n",
        "df = pd.read_excel(file_path,sheet_name='CNAELC116XISS_DF',dtype=str)\n",
        "# Filtrar as linhas onde 'nao_mexer_nessa_coluna' não é nulo ou vazio\n",
        "rj = pd.read_excel(file_path,sheet_name='CNAELC116XISS_RJ',dtype=str)"
      ],
      "metadata": {
        "id": "Bm_qWuSx0wOs"
      },
      "execution_count": null,
      "outputs": []
    },
    {
      "cell_type": "code",
      "source": [
        "merged_dataset = pd.concat([sp, rj, df, bh], ignore_index=True)\n",
        "merged_dataset = merged_dataset[merged_dataset['nome_cidade'].notna() & (merged_dataset['nome_cidade'] != '')]\n"
      ],
      "metadata": {
        "id": "z8Ait-022eiK"
      },
      "execution_count": null,
      "outputs": []
    },
    {
      "cell_type": "code",
      "source": [
        "print(merged_dataset)\n",
        "merged_dataset['cod_iss_aliquota'] = merged_dataset['cod_iss_aliquota'].apply(lambda x: x.lstrip('0'))\n",
        "merged_dataset.to_excel('cidades.xlsx', index=False)"
      ],
      "metadata": {
        "colab": {
          "base_uri": "https://localhost:8080/"
        },
        "id": "3bP85O4b2k_T",
        "outputId": "4bc0886c-e4e8-45fa-8f12-e16dd7d75788"
      },
      "execution_count": null,
      "outputs": [
        {
          "output_type": "stream",
          "name": "stdout",
          "text": [
            "     lc116                                    descricao_lc116  \\\n",
            "0    01.01             Análise e desenvolvimento de sistemas.   \n",
            "1    01.02                                       Programação.   \n",
            "2    01.03               Processamento de dados e congêneres.   \n",
            "3    01.04  Elaboração de programas de computadores, inclu...   \n",
            "4    01.05  Licenciamento ou cessão de direito de uso de p...   \n",
            "..     ...                                                ...   \n",
            "797   8.01  Ensino regular pré–escolar, fundamental, médio...   \n",
            "798   8.02  Instrução, treinamento, orientação pedagógica ...   \n",
            "799   9.01  Hospedagem de qualquer natureza em hotéis, apa...   \n",
            "800   9.02  Agenciamento, organização, promoção, intermedi...   \n",
            "801   9.03                                  Guias de turismo.   \n",
            "\n",
            "    cod_iss_aliquota     nome_cidade ISS devido no municipio  \\\n",
            "0              01.01       São Paulo                       X   \n",
            "1              01.02       São Paulo                       X   \n",
            "2              01.03       São Paulo                       X   \n",
            "3              01.04       São Paulo                       X   \n",
            "4              01.05       São Paulo                       X   \n",
            "..               ...             ...                     ...   \n",
            "797            08.01  Belo Horizonte                       X   \n",
            "798            08.02  Belo Horizonte                       X   \n",
            "799            09.01  Belo Horizonte                       X   \n",
            "800            09.02  Belo Horizonte                       X   \n",
            "801            09.03  Belo Horizonte                       X   \n",
            "\n",
            "    ISS FORA do municipio Retenção Obrigatória Retenção Obrgt. ( PJxPJ)  \n",
            "0                     NaN                  NaN                      NaN  \n",
            "1                     NaN                  NaN                      NaN  \n",
            "2                     NaN                  NaN                      NaN  \n",
            "3                     NaN                  NaN                      NaN  \n",
            "4                     NaN                  NaN                      NaN  \n",
            "..                    ...                  ...                      ...  \n",
            "797                   NaN                  NaN                      NaN  \n",
            "798                   NaN                  NaN                      NaN  \n",
            "799                   NaN                  NaN                      NaN  \n",
            "800                   NaN                  NaN                      NaN  \n",
            "801                   NaN                  NaN                      NaN  \n",
            "\n",
            "[769 rows x 8 columns]\n"
          ]
        }
      ]
    },
    {
      "cell_type": "code",
      "source": [
        "with open('inserts_lc116iss.sql', 'w') as file:\n",
        "    # Iterar sobre as linhas do dataset\n",
        "    for index, row in merged_dataset.iterrows():\n",
        "        # Construir o comando INSERT\n",
        "        insert_sql = f\"\"\"\n",
        "        INSERT INTO ecg_taxass_lc116iss (\n",
        "            ecg_taxass_lc116iss_id , ad_client_id, ad_org_id, created, createdby, ecg_taxass_lc116iss_uu , isactive,\n",
        "            updated, updatedby, ecg_taxass_iss_id ,ecg_taxass_lc116_id\n",
        "        ) VALUES (\n",
        "            (SELECT nextval('ecg_taxass_lc116iss_sq')), 0, 0, NOW(), 100, uuid_generate_v4(), 'Y',\n",
        "            NOW(), 100, (select ecg_taxass_iss_id from ecg_taxass_iss eti  where ecg_taxass_cod = '{row['cod_iss_aliquota']}' and c_city_id =(select c_city_id from c_city cc where  name = '{row['nome_cidade']}')),\n",
        "            (select ecg_taxass_lc116_id from ecg_taxass_lc116 etc where lpad(value,5 ,'0') = lpad( '{row['lc116']}' , 5,'0'))\n",
        "        );\n",
        "        \"\"\"\n",
        "        # Escrever o comando no arquivo\n",
        "        file.write(insert_sql)\n",
        "\n",
        "print(\"Arquivo SQL gerado com sucesso!\")"
      ],
      "metadata": {
        "colab": {
          "base_uri": "https://localhost:8080/"
        },
        "id": "ZBsCjNET6YQC",
        "outputId": "9c414039-2a6c-4ba2-d511-a7deaf293cd5"
      },
      "execution_count": null,
      "outputs": [
        {
          "output_type": "stream",
          "name": "stdout",
          "text": [
            "Arquivo SQL gerado com sucesso!\n"
          ]
        }
      ]
    }
  ]
}